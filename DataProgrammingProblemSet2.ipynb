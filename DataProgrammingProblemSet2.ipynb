{
 "cells": [
  {
   "cell_type": "markdown",
   "id": "2779382d",
   "metadata": {},
   "source": [
    "# Q1.What value is displayed when the last expression (a) is evaluated? Explain your answer by indicating what happens in every executed statement.\n"
   ]
  },
  {
   "cell_type": "code",
   "execution_count": 9,
   "id": "62b3db45",
   "metadata": {},
   "outputs": [
    {
     "data": {
      "text/plain": [
       "6"
      ]
     },
     "execution_count": 9,
     "metadata": {},
     "output_type": "execute_result"
    }
   ],
   "source": [
    "a = 0\n",
    "def b():\n",
    "    global a\n",
    "    a = c(a)\n",
    "def c(a):\n",
    "    return a + 2\n",
    "b() # first time calling b;\n",
    "b() # second time calling b, a=a+2=4;\n",
    "b() # third time calling b,a=a+2 i.e:4+2=6;\n",
    "a   #a=6"
   ]
  },
  {
   "cell_type": "markdown",
   "id": "dd8db790",
   "metadata": {},
   "source": [
    "# Q2.If the file cannot be found by the interpreter or if it cannot be readas a text file, an exception will be raised. Modify function fileLength() so that a friendly message is printed instead.\n"
   ]
  },
  {
   "cell_type": "code",
   "execution_count": 27,
   "id": "09e23550",
   "metadata": {},
   "outputs": [
    {
     "name": "stdout",
     "output_type": "stream",
     "text": [
      "File idterm.py not found.\n"
     ]
    }
   ],
   "source": [
    "def fileLength(file):\n",
    "      try:\n",
    "        infile = open(file)\n",
    "        print (len(infile.read()))\n",
    "      except FileNotFoundError:\n",
    "          print('File {} not found.'.format(file))\n",
    "fileLength('idterm.py')"
   ]
  },
  {
   "cell_type": "markdown",
   "id": "1bfc252e",
   "metadata": {},
   "source": [
    "# Q3.Write a class named Marsupial that can be used as shown below:\n",
    "     m = Marsupial()\n",
    "     m.put_in_pouch('doll')\n",
    "     m.put_in_pouch('firetruck')\n",
    "     m.put_in_pouch('kitten')\n",
    "     m.pouch_contents()\n",
    "     "
   ]
  },
  {
   "cell_type": "code",
   "execution_count": 12,
   "id": "028bbafb",
   "metadata": {},
   "outputs": [
    {
     "name": "stdout",
     "output_type": "stream",
     "text": [
      "I am a Kangaroo located at coordinates(0,0)\n",
      "['doll', 'firetruck', 'kitten']\n",
      "I am a Kangaroo located at coordinates(3,0)\n"
     ]
    }
   ],
   "source": [
    "\n",
    "class Marsupial:                        \n",
    "    \n",
    "    def __init__(self,x,y):             \n",
    "        self.pouch=[]                   \n",
    "        \n",
    "        \n",
    "    def put_in_pouch(self,items):       \n",
    "        self.pouch.append(items)\n",
    "        \n",
    "    def pouch_contents(self):           \n",
    "        return self.pouch\n",
    "\n",
    "class Kangaroo(Marsupial):             \n",
    "    def __init__(self,x,y):              \n",
    "        super().__init__(x,y)           \n",
    "        self.dx = 0                      \n",
    "        self.dy = 0                        \n",
    "    \n",
    "    def jump(self,x,y):                 \n",
    "        self.dx = self.dx + x              \n",
    "        self.dy = self.dy + y\n",
    "    \n",
    "    def __str__(self):                                                         \n",
    "        \n",
    "        return ('I am a Kangaroo located at coordinates({},{})'.format(self.dx,self.dy))\n",
    "\n",
    "k = Kangaroo(0,0)\n",
    "print(k)\n",
    "k.put_in_pouch('doll')\n",
    "k.put_in_pouch('firetruck')\n",
    "k.put_in_pouch('kitten')\n",
    "k.pouch_contents()\n",
    "print(k.pouch)  \n",
    "k.jump(1,0)\n",
    "k.jump(1,0)\n",
    "k.jump(1,0)\n",
    "print(k)\n"
   ]
  },
  {
   "cell_type": "markdown",
   "id": "dc158c4d",
   "metadata": {},
   "source": [
    "# Q4.Write function collatz() that takes a positive integer x as input and prints the Collatz sequence starting at x. A Collatz sequence is obtained by repeatedly applying this rule to the previous number x in the sequence"
   ]
  },
  {
   "cell_type": "code",
   "execution_count": 29,
   "id": "bdd13eac",
   "metadata": {},
   "outputs": [
    {
     "name": "stdout",
     "output_type": "stream",
     "text": [
      "10\n",
      "5\n",
      "16\n",
      "8\n",
      "4\n",
      "2\n",
      "1\n"
     ]
    }
   ],
   "source": [
    "def collatz(number):\n",
    "    if number == 1:\n",
    "        print(int(number))\n",
    "    elif number%2 == 0:\n",
    "        print(int(number))\n",
    "        return collatz(number/2)     \n",
    "    else:\n",
    "        print(int(number))\n",
    "        collatz((3*number)+1)\n",
    "\n",
    "collatz(10)"
   ]
  },
  {
   "cell_type": "markdown",
   "id": "4c5faa4b",
   "metadata": {},
   "source": [
    "# Q5.Write a recursive method binary() that takes a non-negative integer n and prints the binary representation of integer n."
   ]
  },
  {
   "cell_type": "code",
   "execution_count": 19,
   "id": "33a30190",
   "metadata": {},
   "outputs": [
    {
     "name": "stdout",
     "output_type": "stream",
     "text": [
      "Binary 0 is:\n",
      "0\n",
      "Binary 1 is:\n",
      "1\n",
      "Binary 3 is:\n",
      "11\n",
      "Binary 9 is:\n",
      "1001\n"
     ]
    }
   ],
   "source": [
    "def binary(integer):         \n",
    "    \n",
    "    print(\"Binary {} is:\".format(integer))\n",
    "    \n",
    "    if(integer >= 0):                            \n",
    "        print(format(integer,\"b\"))          \n",
    "    \n",
    "    else:\n",
    "        return 'number is negative or 0'                 \n",
    "    \n",
    "\n",
    "binary(0)\n",
    "binary(1)\n",
    "binary(3)\n",
    "binary(9)\n"
   ]
  },
  {
   "cell_type": "markdown",
   "id": "b22143ac",
   "metadata": {},
   "source": [
    "# Q6.Implement a class named HeadingParser that can be used to parse an HTML document, and retrieve and print all the headings in the document. You should implement your class as a subclass of HTMLParser, defined in Standard Library module html.parser. When fed a string containing HTML code, your class should print the headings, one per line and in the order in which they appear in the document. Each heading should be indented as follows: an h1 heading should have indentation 0, and h2 heading should have indentation 1, etc. Test your implementation using w3c.html."
   ]
  },
  {
   "cell_type": "code",
   "execution_count": 2,
   "id": "26bf127a",
   "metadata": {},
   "outputs": [
    {
     "name": "stdout",
     "output_type": "stream",
     "text": [
      "  W3C Mission \n",
      "  \n",
      "\t \n",
      "   Principles \n",
      "   \n",
      " \n",
      "\n",
      "\n",
      " \n"
     ]
    }
   ],
   "source": [
    "\n",
    "from html.parser import HTMLParser            \n",
    "\n",
    "f = open(r'C:\\Users\\AutoLogon\\Desktop\\w3c.html')            \n",
    "r=str(f.read())\n",
    "\n",
    "class HeadingParser(HTMLParser):         \n",
    "  \n",
    "    def __init__(self):                    \n",
    "        HTMLParser.__init__(self)\n",
    "        self.flag = 0 \n",
    "    \n",
    "    def handle_starttag(self, tag, attrs):                    \n",
    "        \n",
    "        if tag == 'h1' or tag == 'h2' or tag == 'h3' or tag == 'h4' or tag=='h5' or tag == 'h6' or tag == 'h7':\n",
    "            self.flag += 1                                     \n",
    "        else:\n",
    "            self.flag = 0\n",
    "            \n",
    "    def handle_data(self, data):            \n",
    "        if self.flag and data!='\\n':\n",
    "            \n",
    "            print('{} {} '.format(self.flag*' ', data))\n",
    "\n",
    "\n",
    "parser = HeadingParser()                            \n",
    "parser.feed(r)"
   ]
  },
  {
   "cell_type": "markdown",
   "id": "168fd3d2",
   "metadata": {},
   "source": [
    "# Q7.Implement recursive function webdir() that takes as input: a URL (as a string) and non-negative integers depth and indent. Your function should visit every webpage reachable from the starting URL web page in depth clicks or less, and print each web page's URL. As shown below, indentation, specified by indent, should be used to indicate the depth of a URL."
   ]
  },
  {
   "cell_type": "code",
   "execution_count": 16,
   "id": "fda7b6ba",
   "metadata": {},
   "outputs": [
    {
     "name": "stdout",
     "output_type": "stream",
     "text": [
      "http://reed.cs.depaul.edu/lperkovic/test2.html\n",
      "https://reed.cs.depaul.edu/lperkovic/test3.html\n"
     ]
    }
   ],
   "source": [
    "from urllib.request import urlopen\n",
    "from urllib.parse import urljoin\n",
    "from html.parser import HTMLParser\n",
    "class Collect(HTMLParser):\n",
    "    'collects hyperlink URLs into a list'\n",
    "\n",
    "    def __init__(self, url):\n",
    "        'initializes parser, the url, and a list'\n",
    "        HTMLParser.__init__(self)\n",
    "        self.url = url\n",
    "        self.links = []\n",
    "        self.text= \"\"\n",
    "\n",
    "    \n",
    "    def handle_starttag(self, tag, attrs):\n",
    "        'collects hyperlink URLs in their absolute format'\n",
    "        if tag == 'a':\n",
    "            for attr in attrs:\n",
    "                if attr[0] == 'href':\n",
    "                    absolute = urljoin(self.url, attr[1])\n",
    "                    if absolute[:4] == 'http': \n",
    "                        self.links.append(absolute)\n",
    "                        \n",
    "    def getLinks(self):\n",
    "        'returns hyperlinks URLs in their absolute format'\n",
    "        return self.links\n",
    "    \n",
    "    def handle_data(self, data):\n",
    "        self.text += data\n",
    "    def getData(self):\n",
    "        return self.text\n",
    "    \n",
    "url = 'https://reed.cs.depaul.edu/lperkovic/test1.html'\n",
    "resource = urlopen(url)\n",
    "content = resource.read().decode()\n",
    "collect = Collect(url)\n",
    "collect.feed(content)\n",
    "for link in collect.getLinks():\n",
    "    print(link)\n"
   ]
  },
  {
   "cell_type": "markdown",
   "id": "cea3675d",
   "metadata": {},
   "source": [
    "# Q8.Write SQL queries on the below database table that return:\\n\",\n",
    "     a) All the temperature data.\n",
    "     b) All the cities, but without repetition.\n",
    "     c) All the records for India.\n",
    "     d) All the Fall records.\n",
    "     e) The city, country, and season for which the average rainfall is between 200 and 400 millimeters.\n",
    "     f) The city and country for which the average Fall temperature is above 20 degrees, in increasing temperature order.\n",
    "     g) The total annual rainfall for Cairo.\n",
    "     h) The total rainfall for each season."
   ]
  },
  {
   "cell_type": "code",
   "execution_count": 19,
   "id": "330290a9",
   "metadata": {},
   "outputs": [
    {
     "name": "stdout",
     "output_type": "stream",
     "text": [
      "(24.8,)(28.4,)(27.9,)(27.6,)(4.2,)(8.3,)(15.7,)(10.4,)(13.6,)(20.7,)(27.7,)(22.2,)\n",
      "('Mumbai',)('London',)('Cairo',)\n",
      "('Mumbai', 'India', 'Winter', 24.8, 5.9)('Mumbai', 'India', 'Spring', 28.4, 16.2)('Mumbai', 'India', 'Summer', 27.9, 1549.4)('Mumbai', 'India', 'Fall', 27.6, 346)\n",
      "('Mumbai', 'India', 'Fall', 27.6, 346)('London', 'United Kingdom', 'Fall', 10.4, 218.5)('Cairo', 'Egypt', 'Fall', 22.2, 4.5)\n",
      "('Mumbai', 'India', 'Fall')('London', 'United Kingdom', 'Winter')('London', 'United Kingdom', 'Fall')\n",
      "('Cairo', 'Egypt')('Mumbai', 'India')\n",
      "(27.6,)\n",
      "('Fall', 569.0)('Spring', 192.29999999999998)('Summer', 1706.5)('Winter', 230.1)"
     ]
    }
   ],
   "source": [
    "import sqlite3\n",
    "\n",
    "conn = sqlite3.connect('demo.db')\n",
    "\n",
    "conn.execute('''\n",
    "CREATE TABLE IF NOT EXISTS team_data(city text, \n",
    "                      country text, \n",
    "                      season integer, \n",
    "                      temperature integer,\n",
    "                      rainfall integer);''')\n",
    "\n",
    "conn.commit()\n",
    "\n",
    "mycursor = conn.cursor()\n",
    "\n",
    "conn.execute(\"INSERT INTO team_data VALUES('Mumbai', 'India', 'Winter', 24.8, 5.9);\")\n",
    "conn.execute(\"INSERT INTO team_data VALUES('Mumbai', 'India', 'Spring', 28.4, 16.2);\")\n",
    "conn.execute(\"INSERT INTO team_data VALUES('Mumbai', 'India', 'Summer', 27.9, 1549.4);\")\n",
    "conn.execute(\"INSERT INTO team_data VALUES('Mumbai', 'India', 'Fall', 27.6, 346.0);\")\n",
    "conn.execute(\"INSERT INTO team_data VALUES('London', 'United Kingdom', 'Winter', 4.2, 207.7);\")\n",
    "conn.execute(\"INSERT INTO team_data VALUES('London', 'United Kingdom', 'Spring', 8.3, 169.6 );\")\n",
    "conn.execute(\"INSERT INTO team_data VALUES('London', 'United Kingdom', 'Summer', 15.7, 157.0);\")\n",
    "conn.execute(\"INSERT INTO team_data VALUES('London', 'United Kingdom', 'Fall', 10.4, 218.5);\")\n",
    "conn.execute(\"INSERT INTO team_data VALUES('Cairo', 'Egypt', 'Winter', 13.6, 16.5);\")\n",
    "conn.execute(\"INSERT INTO team_data VALUES('Cairo', 'Egypt', 'Spring', 20.7, 6.5);\")\n",
    "conn.execute(\"INSERT INTO team_data VALUES('Cairo', 'Egypt', 'Summer', 27.7, 0.1);\")\n",
    "conn.execute(\"INSERT INTO team_data VALUES('Cairo', 'Egypt', 'Fall', 22.2, 4.5);\")\n",
    "\n",
    "mycursor.execute(\"SELECT temperature from team_data\")\n",
    "myresult = mycursor.fetchall()\n",
    "for y in myresult:\n",
    "  print(y, end=\"\")\n",
    "\n",
    "print()\n",
    "mycursor.execute(\"SELECT DISTINCT(city) from team_data\")\n",
    "myresult = mycursor.fetchall()\n",
    "for y in myresult:\n",
    "  print(y, end=\"\")\n",
    "\n",
    "print()\n",
    "mycursor.execute(\"SELECT * from team_data where country = 'India'\")\n",
    "myresult = mycursor.fetchall()\n",
    "for y in myresult:\n",
    "  print(y, end=\"\")\n",
    "\n",
    "\n",
    "print()\n",
    "mycursor.execute(\"SELECT * from team_data where season = 'Fall'\")\n",
    "myresult = mycursor.fetchall()\n",
    "for y in myresult:\n",
    "  print(y, end=\"\")\n",
    "\n",
    "print()\n",
    "mycursor.execute(\"SELECT city,country,season from team_data where rainfall BETWEEN 200 and 400\")\n",
    "myresult = mycursor.fetchall()\n",
    "for y in myresult:\n",
    "  print(y, end=\"\")\n",
    "\n",
    "print()\n",
    "mycursor.execute(\"SELECT city,country from team_data where (season = 'Fall' and temperature > 20) Order BY temperature ASC \")\n",
    "myresult = mycursor.fetchall()\n",
    "for y in myresult:\n",
    "  print(y, end=\"\")\n",
    "\n",
    "print()\n",
    "mycursor.execute(\"SELECT sum(rainfall) from team_data where city = 'Cairo'\")\n",
    "myresult = mycursor.fetchall()\n",
    "for y in myresult:\n",
    "  print(y, end=\"\")\n",
    "\n",
    "print()\n",
    "mycursor.execute(\"SELECT season, sum(rainfall) from team_data group by season\")\n",
    "myresult = mycursor.fetchall()\n",
    "for y in myresult:\n",
    "  print(y, end=\"\")\n",
    "\n",
    "conn.close()\n"
   ]
  },
  {
   "cell_type": "markdown",
   "id": "b8c78f08",
   "metadata": {},
   "source": [
    "# Q9.Suppose list words is defined as follows:\\n\",\n",
    "     >>> words = ['The', 'quick', 'brown', 'fox', 'jumps', 'over', 'the', 'lazy', 'dog']\n",
    "     Write list comprehension expressions that use list words."
   ]
  },
  {
   "cell_type": "code",
   "execution_count": 20,
   "id": "101f081a",
   "metadata": {},
   "outputs": [
    {
     "name": "stdout",
     "output_type": "stream",
     "text": [
      "['THE', 'QUICK', 'BROWN', 'FOX', 'JUMPS', 'OVER', 'THE', 'LAZY', 'DOG']\n",
      "['the', 'quick', 'brown', 'fox', 'jumps', 'over', 'the', 'lazy', 'dog']\n",
      "[3, 5, 5, 3, 5, 4, 3, 4, 3]\n",
      "[['THE', 'the', 3], ['QUICK', 'quick', 5], ['BROWN', 'brown', 5], ['FOX', 'fox', 3], ['JUMPS', 'jumps', 5], ['OVER', 'over', 4], ['THE', 'the', 3], ['LAZY', 'lazy', 4], ['DOG', 'dog', 3]]\n",
      "['The', 'quick', 'brown', 'fox', 'jumps', 'over', 'the', 'lazy', 'dog']\n"
     ]
    }
   ],
   "source": [
    "words = ['The', 'quick', 'brown', 'fox', 'jumps', 'over', 'the', 'lazy', 'dog']\n",
    "print([y.upper() for y in words])\n",
    "print([y.lower() for y in words])\n",
    "print([len(y) for y in words])\n",
    "print([[y.upper(), y.lower(), len(y)]for y in words])\n",
    "print([y for y in words if len(y) >= 3])\n"
   ]
  },
  {
   "cell_type": "code",
   "execution_count": null,
   "id": "ce6e885d",
   "metadata": {},
   "outputs": [],
   "source": []
  }
 ],
 "metadata": {
  "kernelspec": {
   "display_name": "Python 3 (ipykernel)",
   "language": "python",
   "name": "python3"
  },
  "language_info": {
   "codemirror_mode": {
    "name": "ipython",
    "version": 3
   },
   "file_extension": ".py",
   "mimetype": "text/x-python",
   "name": "python",
   "nbconvert_exporter": "python",
   "pygments_lexer": "ipython3",
   "version": "3.9.12"
  }
 },
 "nbformat": 4,
 "nbformat_minor": 5
}
